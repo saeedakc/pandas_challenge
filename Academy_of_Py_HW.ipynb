{
 "cells": [
  {
   "cell_type": "code",
   "execution_count": null,
   "metadata": {},
   "outputs": [],
   "source": [
    "# Dependencies and Setup\n",
    "import pandas as pd\n",
    "import numpy as np\n",
    "\n",
    "# File to Load (Remember to Change These)\n",
    "school_data_to_load = \"Desktop/School/GT-Data/Homework/04-Pandas/Instructions/PyCitySchools/Resources/schools_complete.csv\"\n",
    "student_data_to_load = \"Desktop/School/GT-Data/Homework/04-Pandas/Instructions/PyCitySchools/Resources/students_complete.csv\"\n",
    "\n",
    "# Read School and Student Data File and store into Pandas Data Frames\n",
    "school_data = pd.read_csv(school_data_to_load)\n",
    "student_data = pd.read_csv(student_data_to_load)\n",
    "\n",
    "school_df = pd.DataFrame(school_data)\n",
    "\n",
    "total_schools = school_df[\"School ID\"].count()\n",
    "total_students = school_df[\"size\"].sum()\n",
    "total_budget= school_df[\"budget\"].sum()\n",
    "\n",
    "school_df.head()\n",
    "print(total_schools, total_budget, total_students)"
   ]
  },
  {
   "cell_type": "code",
   "execution_count": null,
   "metadata": {},
   "outputs": [],
   "source": [
    "school_data = school_data.rename(columns={\"name\": \"school name\"})\n",
    "student_data = student_data.rename(columns={\"school\": \"school name\"})\n",
    "\n",
    "# Combine the data into a single dataset\n",
    "school_data_complete = pd.merge(school_data, student_data, how=\"left\", on=[\"school name\"])\n",
    "school_data_complete.head()"
   ]
  },
  {
   "cell_type": "code",
   "execution_count": null,
   "metadata": {},
   "outputs": [],
   "source": [
    "# total_schools = school_data_complete[\"School ID\"].value_counts()\n",
    "# total_students = school_data_complete[\"Student ID\"].sum()\n",
    "# total_budget= school_data_complete[\"budget\"].sum()\n",
    "avgmathscore = school_data_complete[\"math_score\"].mean()\n",
    "avgreadingscore = school_data_complete[\"reading_score\"].mean()\n",
    "passingmath = school_data_complete.query('math_score >70')[\"School ID\"].count()/ total_students*100\n",
    "passingreading = school_data_complete.query('reading_score >70')[\"School ID\"].count()/ total_students*100\n",
    "overallpassrate = (avgmathscore + avgreadingscore)/2\n",
    "District_summary_df = pd.DataFrame({\"Total Schools\":[total_schools],\n",
    "                                   \"Total Students\":[total_students],\n",
    "                                   \"Total Budget\":[total_budget],\n",
    "                                   \"Average Math Score\":[avgmathscore],\n",
    "                                   \"Average Reading Score\":[avgreadingscore],\n",
    "                                   \"% Passing Math\":[passingmath],\n",
    "                                   \"% Passing Reading\":[passingreading],\n",
    "                                   \"% Overall Passing Rate\":[overallpassrate]\n",
    "})\n",
    "\n",
    "\n",
    "\n",
    "District_summary_df = District_summary_df[[\"Total Schools\",\n",
    "\"Total Students\",\n",
    "\"Total Budget\",\n",
    "\"Average Math Score\",\n",
    "\"Average Reading Score\",\n",
    "\"% Passing Math\",\n",
    "\"% Passing Reading\",\n",
    "\"% Overall Passing Rate\"]]\n",
    "\n",
    "\n",
    "District_summary_df\n",
    "\n",
    "District_summary_df[\"Average Math Score\"] = District_summary_df[\"Average Math Score\"]\n",
    "District_summary_df[\"Average Reading Score\"] = District_summary_df[\"Average Reading Score\"]\n",
    "District_summary_df[\"Total Budget\"] = District_summary_df[\"Total Budget\"].map(\"${:,}\".format)\n",
    "District_summary_df[\"% Passing Math\"] = District_summary_df[\"% Passing Math\"]\n",
    "District_summary_df[\"% Passing Reading\"] = District_summary_df[\"% Passing Reading\"]\n",
    "District_summary_df[\"% Overall Passing Rate\"] = District_summary_df[\"% Overall Passing Rate\"]\n",
    "\n",
    "\n",
    "District_summary_df"
   ]
  },
  {
   "cell_type": "code",
   "execution_count": null,
   "metadata": {},
   "outputs": [],
   "source": [
    "school_data_complete_new = school_data_complete[[\"School ID\", \"school name\", \"type\", \"size\", \"budget\", \"Student ID\", \"name\",\n",
    "                                                 \"gender\", \"grade\", \"reading_score\",\"math_score\"]].copy()\n",
    "school_data_complete_new.head()"
   ]
  },
  {
   "cell_type": "code",
   "execution_count": null,
   "metadata": {},
   "outputs": [],
   "source": [
    "school_data_complete_new[\"School ID\"].count()"
   ]
  },
  {
   "cell_type": "code",
   "execution_count": null,
   "metadata": {},
   "outputs": [],
   "source": [
    "grouped_school_data = school_data_complete_new.groupby(['school name', \"type\"])\n",
    "# grouped_school_data.drop_duplicates(subset=[budget], keep=False)\n",
    "\n",
    "\n",
    "total_students_grp = grouped_school_data[\"Student ID\"].count()\n",
    "# total_budget_grp = grouped_school_data[\"budget\"]\n",
    "# total_budget_grp_var = total_budget_grp/ total_students_grp\n",
    "total_budget_grp = grouped_school_data[\"budget\"].mean()\n",
    "per_stu_budget_grp =  (total_budget_grp/ total_students_grp)\n",
    "avgmathscore_grp = grouped_school_data[\"math_score\"].mean()\n",
    "avgreadingscore_grp = grouped_school_data[\"reading_score\"].mean()\n",
    "passingmath_grp = school_data_complete_new.query('math_score >70')[\"School ID\"].count()/ total_students_grp\n",
    "passingreading_grp = school_data_complete_new.query('reading_score >70')[\"School ID\"].count()/ total_students_grp \n",
    "overallpassrate_grp = ((avgmathscore_grp + avgreadingscore_grp)/2)\n",
    "  \n",
    "# Converting a GroupBy object into a DataFrame\n",
    "grouped_school_data_df = pd.DataFrame({\"Total Students\":total_students_grp,\n",
    "                                       \"Total School Budget\": total_budget_grp, \n",
    "                                       \"Per Student Budget\":per_stu_budget_grp,\n",
    "                                       \"Average Math Score\": avgmathscore_grp,\n",
    "                                       \"Average Reading Score\": avgreadingscore_grp,   \n",
    "                                       \"% Passing Math\":passingmath_grp,\n",
    "                                       \"% Passing Reading\":passingreading_grp,\n",
    "                                        \"%Overall Passing Rate\":overallpassrate_grp          \n",
    "                                    \n",
    "                                      \n",
    "})\n",
    "\n",
    "grouped_school_data_df = grouped_school_data_df[[  \"Total Students\",\n",
    "    \"Total School Budget\",\n",
    "    \"Per Student Budget\",\n",
    "    \"Average Math Score\",\n",
    "    \"Average Reading Score\",\n",
    "     \"% Passing Math\",   \n",
    "     \"% Passing Reading\",                                             \n",
    "    \"%Overall Passing Rate\"]]\n",
    "\n",
    "grouped_school_data_df[\"Total School Budget\"] = grouped_school_data_df[\"Total Students\"].map(\"${:,.2f}\".format)\n",
    "grouped_school_data_df[\"Per Student Budget\"] = grouped_school_data_df[\"Per Student Budget\"].map(\"${:,.2f}\".format)\n",
    "grouped_school_data_df.head(10)"
   ]
  },
  {
   "cell_type": "code",
   "execution_count": null,
   "metadata": {},
   "outputs": [],
   "source": [
    "Top_schools = grouped_school_data_df.sort_values(\n",
    "    [\"%Overall Passing Rate\"], ascending=False)\n",
    "Top_schools.head()"
   ]
  },
  {
   "cell_type": "code",
   "execution_count": null,
   "metadata": {},
   "outputs": [],
   "source": [
    "Bottom_schools = grouped_school_data_df.sort_values(\n",
    "    [\"%Overall Passing Rate\"], ascending=True)\n",
    "Bottom_schools.head()"
   ]
  },
  {
   "cell_type": "code",
   "execution_count": null,
   "metadata": {},
   "outputs": [],
   "source": [
    "nineth_graders = school_data_complete[(school_data_complete[\"grade\"] == \"9th\")]\n",
    "tenth_graders = school_data_complete[(school_data_complete[\"grade\"] == \"10th\")]\n",
    "eleventh_graders = school_data_complete[(school_data_complete[\"grade\"] == \"11th\")]\n",
    "twelfth_graders = school_data_complete[(school_data_complete[\"grade\"] == \"12th\")]\n",
    "\n",
    "nineth_graders_scores = nineth_graders.groupby([\"school name\"]).mean()[\"math_score\"]\n",
    "tenth_graders_scores = tenth_graders.groupby([\"school name\"]).mean()[\"math_score\"]\n",
    "eleventh_graders_scores = eleventh_graders.groupby([\"school name\"]).mean()[\"math_score\"]\n",
    "twelfth_graders_scores = twelfth_graders.groupby([\"school name\"]).mean()[\"math_score\"]\n",
    "\n",
    "\n",
    "scores_by_grade_df = pd.DataFrame({\"9th\": nineth_graders_scores,\n",
    "                                \"10th\":tenth_graders_scores,\n",
    "                                \"11th\":eleventh_graders_scores,\n",
    "                                \"12th\":twelfth_graders_scores\n",
    "})\n",
    "\n",
    "scores_by_grade_df.index.name = None\n",
    "\n",
    "scores_by_grade_df = scores_by_grade_df [[\"9th\", \"10th\", \"11th\", \"12th\"]]\n",
    "scores_by_grade_df"
   ]
  },
  {
   "cell_type": "code",
   "execution_count": null,
   "metadata": {},
   "outputs": [],
   "source": [
    "nineth_graders = school_data_complete[(school_data_complete[\"grade\"] == \"9th\")]\n",
    "tenth_graders = school_data_complete[(school_data_complete[\"grade\"] == \"10th\")]\n",
    "eleventh_graders = school_data_complete[(school_data_complete[\"grade\"] == \"11th\")]\n",
    "twelfth_graders = school_data_complete[(school_data_complete[\"grade\"] == \"12th\")]\n",
    "\n",
    "nineth_graders_scores = nineth_graders.groupby([\"school name\"]).mean()[\"reading_score\"]\n",
    "tenth_graders_scores = tenth_graders.groupby([\"school name\"]).mean()[\"reading_score\"]\n",
    "eleventh_graders_scores = eleventh_graders.groupby([\"school name\"]).mean()[\"reading_score\"]\n",
    "twelfth_graders_scores = twelfth_graders.groupby([\"school name\"]).mean()[\"reading_score\"]\n",
    "\n",
    "\n",
    "scores_by_grade_df = pd.DataFrame({\"9th\": nineth_graders_scores,\n",
    "                                \"10th\":tenth_graders_scores,\n",
    "                                \"11th\":eleventh_graders_scores,\n",
    "                                \"12th\":twelfth_graders_scores    \n",
    "})\n",
    "\n",
    "scores_by_grade_df.index.name = None\n",
    "\n",
    "scores_by_grade_df = scores_by_grade_df [[\"9th\", \"10th\", \"11th\", \"12th\"]]\n",
    "scores_by_grade_df"
   ]
  },
  {
   "cell_type": "code",
   "execution_count": null,
   "metadata": {},
   "outputs": [],
   "source": [
    "grouped_school_data_dfbn = grouped_school_data_df.copy()\n",
    "#grouped_school_data_dfbn.head()"
   ]
  },
  {
   "cell_type": "code",
   "execution_count": null,
   "metadata": {},
   "outputs": [],
   "source": [
    "grouped_school_data_df3 = grouped_school_data_dfbn[[\"Per Student Budget\",\"Average Math Score\",\"Average Reading Score\",\"% Passing Math\",\"% Passing Reading\",\n",
    "                                     \"%Overall Passing Rate\"]]\n",
    "grouped_school_data_df3.head()"
   ]
  },
  {
   "cell_type": "code",
   "execution_count": null,
   "metadata": {},
   "outputs": [],
   "source": [
    "bins=[0,585,615,645,675]\n",
    "bin_names = [\"< $585\", \"$585-615\",\"$615-645\",\"$645-675\"]\n",
    "grouped_school_data_df3[\"Spending ranges (Per Student)\"] = pd.cut(per_stu_budget_grp, bins, labels=bin_names)\n",
    "\n",
    "sch_spn_math_scores = grouped_school_data_df3.groupby([\"Spending ranges (Per Student)\"]).mean()[\"Average Math Score\"]\n",
    "sch_spn_reading_scores = grouped_school_data_df3.groupby([\"Spending ranges (Per Student)\"]).mean()[\"Average Reading Score\"]\n",
    "sch_spn_passing_math = grouped_school_data_df3.groupby([\"Spending ranges (Per Student)\"]).mean()[\"% Passing Math\"]\n",
    "sch_spn_passing_reading = grouped_school_data_df3.groupby([\"Spending ranges (Per Student)\"]).mean()[\"% Passing Reading\"]\n",
    "sch_spn_overall_passing_rate = (sch_spn_math_scores + sch_spn_reading_scores)/2\n",
    "\n",
    "score_by_school_spn_df = pd.DataFrame({\"Average Math Score\":sch_spn_math_scores,\n",
    "                                    \"Average Reading Score\":sch_spn_reading_scores,\n",
    "                                    \"% Passing Math\":sch_spn_passing_math,\n",
    "                                    \"% Passing Reading\":sch_spn_passing_reading,\n",
    "                                    \"% Overall Passing Rate\": sch_spn_overall_passing_rate})\n",
    "\n",
    "score_by_school_spn_df"
   ]
  },
  {
   "cell_type": "code",
   "execution_count": null,
   "metadata": {},
   "outputs": [],
   "source": [
    "grouped_school_data_df3[\"Scores by School Size\"] = pd.cut(total_students_grp, bins, labels=size_names)\n",
    "\n",
    "sch_spn_math_scores = grouped_school_data_df3.groupby([\"Scores by School Size\"]).mean()[\"Average Math Score\"]\n",
    "sch_spn_reading_scores = grouped_school_data_df3.groupby([\"Scores by School Size\"]).mean()[\"Average Reading Score\"]\n",
    "sch_spn_passing_math = grouped_school_data_df3.groupby([\"Scores by School Size\"]).mean()[\"% Passing Math\"]\n",
    "sch_spn_passing_reading = grouped_school_data_df3.groupby([\"Scores by School Size\"]).mean()[\"% Passing Reading\"]\n",
    "sch_spn_overall_passing_rate = (sch_spn_math_scores + sch_spn_reading_scores)/2\n",
    "\n",
    "score_by_school_size_df = pd.DataFrame({\"Average Math Score\":sch_spn_math_scores,\n",
    "                                    \"Average Reading Score\":sch_spn_reading_scores,\n",
    "                                    \"% Passing Math\":sch_spn_passing_math,\n",
    "                                    \"% Passing Reading\":sch_spn_passing_reading,\n",
    "                                    \"% Overall Passing Rate\": sch_spn_overall_passing_rate})\n",
    "\n",
    "score_by_school_size_df"
   ]
  }
 ],
 "metadata": {
  "kernelspec": {
   "display_name": "Python 3",
   "language": "python",
   "name": "python3"
  },
  "language_info": {
   "codemirror_mode": {
    "name": "ipython",
    "version": 3
   },
   "file_extension": ".py",
   "mimetype": "text/x-python",
   "name": "python",
   "nbconvert_exporter": "python",
   "pygments_lexer": "ipython3",
   "version": "3.7.3"
  }
 },
 "nbformat": 4,
 "nbformat_minor": 2
}
